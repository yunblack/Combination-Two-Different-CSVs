{
 "cells": [
  {
   "cell_type": "code",
   "execution_count": 102,
   "metadata": {},
   "outputs": [],
   "source": [
    "import csv"
   ]
  },
  {
   "cell_type": "code",
   "execution_count": 103,
   "metadata": {},
   "outputs": [],
   "source": [
    "def readcsv():\n",
    "    \n",
    "    with open('Weather.csv', mode='r') as csv_file:\n",
    "        csv_reader = csv.DictReader(csv_file)\n",
    "        line_count = 0\n",
    "        for row in csv_reader:\n",
    "            if line_count == 0:\n",
    "                line_count += 1\n",
    "            \n",
    "            line_count += 1"
   ]
  },
  {
   "cell_type": "code",
   "execution_count": 104,
   "metadata": {},
   "outputs": [],
   "source": [
    "Area_Num = []\n",
    "Area = []\n",
    "Date = []\n",
    "Temperature = []\n",
    "Pressure = []\n",
    "Humidity = []\n",
    "Rainfall = []\n",
    "Wind = []\n",
    "Cloud = []\n",
    "Snowfall = []\n",
    "Discomfort = []\n",
    "\n",
    "Date_2 = []\n",
    "Active = []\n",
    "Reactive = []\n",
    "HouseIndex = []"
   ]
  },
  {
   "cell_type": "code",
   "execution_count": 105,
   "metadata": {},
   "outputs": [],
   "source": [
    "def readcsv_weather():\n",
    "    with open('Weather.csv', mode='r') as csv_file:\n",
    "        csv_reader = csv.DictReader(csv_file)\n",
    "        line_count = 0\n",
    "        for row in csv_reader:\n",
    "            if line_count == 0:\n",
    "                line_count += 1\n",
    "                  \n",
    "            if row[\"Area_Num\"] != None:        \n",
    "                Area_Num.append(row[\"Area_Num\"])          \n",
    "            if row[\"Area\"] != None:\n",
    "                Area.append(row[\"Area\"])              \n",
    "            if row[\"Date\"] != None:\n",
    "                Date.append(row[\"Date\"])     \n",
    "            if row[\"Temperature\"] != None:\n",
    "                Temperature.append(row[\"Temperature\"])\n",
    "            if row[\"Pressure\"] != None:\n",
    "                Pressure.append(row[\"Pressure\"])\n",
    "            if row[\"Humidity\"] != None:\n",
    "                Humidity.append(row[\"Humidity\"])\n",
    "            if row[\"Rainfall\"] != None:\n",
    "                Rainfall.append(row[\"Rainfall\"])\n",
    "            if row[\"Wind\"] != None:\n",
    "                Wind.append(row[\"Wind\"])\n",
    "            if row[\"Cloud\"] != None:\n",
    "                Cloud.append(row[\"Cloud\"])\n",
    "            if row[\"Snowfall\"] != None:\n",
    "                Snowfall.append(row[\"Snowfall\"])\n",
    "            if row[\"Discomfort\"] != None:\n",
    "                Discomfort.append(row[\"Discomfort\"])\n",
    "            \n",
    "            line_count += 1\n",
    "    "
   ]
  },
  {
   "cell_type": "code",
   "execution_count": 106,
   "metadata": {},
   "outputs": [],
   "source": [
    "def readcsv_energy():\n",
    "    with open('Collection.csv', mode='r') as csv_file:\n",
    "        csv_reader = csv.DictReader(csv_file)\n",
    "        line_count = 0\n",
    "        for row in csv_reader:\n",
    "            if line_count == 0:\n",
    "                line_count += 1\n",
    "                  \n",
    "            if row[\"Date\"] != None:        \n",
    "                Date_2.append(row[\"Date\"])          \n",
    "            \n",
    "            if row[\"Active\"] != None:\n",
    "                Active.append(row[\"Active\"])              \n",
    "            \n",
    "            if row[\"Reactive\"] != None:\n",
    "                Reactive.append(row[\"Reactive\"])\n",
    "            \n",
    "            if row[\"HouseNum\"] != None:\n",
    "                HouseIndex.append(row[\"HouseNum\"])\n",
    "            \n",
    "            line_count += 1"
   ]
  },
  {
   "cell_type": "code",
   "execution_count": null,
   "metadata": {},
   "outputs": [],
   "source": []
  },
  {
   "cell_type": "code",
   "execution_count": 107,
   "metadata": {},
   "outputs": [],
   "source": [
    "def mixData():\n",
    "    \n",
    "    with open('New.csv', mode='w', newline='') as csv_file:\n",
    "        \n",
    "        fieldnames = ['Date', 'Active','Reactive','HouseIndex','Temperature','Humidity',\n",
    "                     'Pressure','Rainfall','Snowfall','Cloud',\n",
    "                     'Wind','Discomfort']\n",
    "        \n",
    "        writer = csv.DictWriter(csv_file, fieldnames=fieldnames)\n",
    "        writer.writeheader()\n",
    "        \n",
    "        for i in range (0, Date_2.__len__()):\n",
    "            for j in range (0, Date.__len__()):\n",
    "                if str(Date_2[i]) == str(Date[j]):\n",
    "                    # print(Date_2[i], ' -- Accepted')\n",
    "                    writer.writerow(\n",
    "                        {'Date': Date_2[i],\n",
    "                        \n",
    "                         'Active' : Active[i],\n",
    "                         'Reactive' : Reactive[i],\n",
    "                         'HouseIndex' : HouseIndex[i],\n",
    "                         'Temperature' : Temperature[j],\n",
    "                         'Humidity' : Humidity[j],\n",
    "                        'Pressure' : Pressure[j],\n",
    "                         'Rainfall' : Rainfall[j],\n",
    "                         'Snowfall' : Snowfall[j],\n",
    "                         'Cloud' : Cloud[j],\n",
    "                         'Wind' : Wind[j],\n",
    "                         'Discomfort' : Discomfort[j]\n",
    "                         })\n",
    "                    break\n",
    "            "
   ]
  },
  {
   "cell_type": "code",
   "execution_count": 108,
   "metadata": {},
   "outputs": [
    {
     "name": "stdout",
     "output_type": "stream",
     "text": [
      "Read Weather Data\n",
      "Read Energy Data\n",
      "All Done\n",
      "\n",
      "mix -- Processing\n",
      "mix -- Done\n"
     ]
    }
   ],
   "source": [
    "def main():\n",
    "    print(\"Read Weather Data\")\n",
    "    readcsv_weather()\n",
    "    \n",
    "    print(\"Read Energy Data\")\n",
    "    readcsv_energy()\n",
    "    print('All Done')\n",
    "    print('')\n",
    "    \n",
    "    print('mix -- Processing')\n",
    "    mixData()\n",
    "    print('mix -- Done')\n",
    "    \n",
    "if __name__ == '__main__':\n",
    "    main()"
   ]
  },
  {
   "cell_type": "code",
   "execution_count": null,
   "metadata": {},
   "outputs": [],
   "source": []
  }
 ],
 "metadata": {
  "kernelspec": {
   "display_name": "Python 3",
   "language": "python",
   "name": "python3"
  },
  "language_info": {
   "codemirror_mode": {
    "name": "ipython",
    "version": 3
   },
   "file_extension": ".py",
   "mimetype": "text/x-python",
   "name": "python",
   "nbconvert_exporter": "python",
   "pygments_lexer": "ipython3",
   "version": "3.7.6"
  }
 },
 "nbformat": 4,
 "nbformat_minor": 4
}
